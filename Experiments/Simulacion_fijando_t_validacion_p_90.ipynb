{
 "cells": [
  {
   "cell_type": "code",
   "execution_count": 134,
   "metadata": {},
   "outputs": [],
   "source": [
    "\n",
    "import networkx as nx\n",
    "import EoN\n",
    "import matplotlib.pyplot as plt\n",
    "import numpy as np\n",
    "import scipy.stats as st\n",
    "import copy\n",
    "import scipy as scipy\n",
    "import scipy.stats as st\n",
    "from scipy.integrate import odeint"
   ]
  },
  {
   "cell_type": "markdown",
   "metadata": {},
   "source": [
    "# Fijando los parametros del modelo.\n"
   ]
  },
  {
   "cell_type": "code",
   "execution_count": 135,
   "metadata": {},
   "outputs": [],
   "source": [
    "tau = 0.3#transmission rate\n",
    "gamma = 1.0 #recovery rate\n",
    "\n",
    "rho = 0.005#initial fraction infected\n"
   ]
  },
  {
   "cell_type": "markdown",
   "metadata": {},
   "source": [
    "# Funciones Propias Auxiliares Utiles"
   ]
  },
  {
   "cell_type": "code",
   "execution_count": 136,
   "metadata": {},
   "outputs": [],
   "source": [
    "#Codigo para partir las simulaciones\n",
    "\n",
    "\n",
    "def get_listados_nodos_a_tiempo(simulacion, tiempo):\n",
    "    \n",
    "    estados = simulacion.get_statuses(time=tiempo)\n",
    "    #dictionario nodo: status\n",
    "\n",
    "    susceptibles = []\n",
    "    infectados = []\n",
    "    recuperados = []\n",
    "\n",
    "    #print(type(estados[0]))\n",
    "\n",
    "    for nodo in estados.keys():\n",
    "        status = estados[nodo]\n",
    "        if(status == 'S'):\n",
    "            susceptibles.append(nodo)\n",
    "        elif(status == 'I'):\n",
    "            infectados.append(nodo)\n",
    "        else:\n",
    "            recuperados.append(nodo)\n",
    "            \n",
    "    return susceptibles,infectados, recuperados\n"
   ]
  },
  {
   "cell_type": "code",
   "execution_count": 137,
   "metadata": {},
   "outputs": [],
   "source": [
    "# Función que elimina enlaces\n",
    "def elimina_enlaces(grafo,prob):\n",
    "    \"\"\"\n",
    "        Probabilidad con la que eliminar un enlace con porbabilidad uniforme\n",
    "    \"\"\"\n",
    "    \n",
    "    \n",
    "    for edge in list(grafo.edges):\n",
    "        \n",
    "        r= np.random.uniform(0, 1)\n",
    "        if(r<= prob):\n",
    "            u,v = edge\n",
    "            grafo.remove_edge(u,v)\n",
    "\n",
    "\n",
    "\n",
    "    return grafo\n"
   ]
  },
  {
   "cell_type": "code",
   "execution_count": 138,
   "metadata": {},
   "outputs": [],
   "source": [
    "\n",
    "def encuentra_tiempo_limite_alcanzado(tabla_tiempos,tabla_infectados, limite):\n",
    "    \"\"\"\n",
    "        Encuentra el primer tiempo t a partir del cual el numero de infectados >= limite\n",
    "    \"\"\"\n",
    "    \n",
    "    assert len(tabla_tiempos) == len(tabla_infectados), \"Las tablas deben de tener le mismo tamaño\"\n",
    "    \n",
    "    index = -1\n",
    "    \n",
    "    for i in range(len(tabla_infectados)):\n",
    "        if(tabla_infectados[i]>= limite):\n",
    "            index = i\n",
    "            break\n",
    "            \n",
    "    if(index==-1):\n",
    "        print(\"ATENCION: El limite no se supera!\")\n",
    "        return -1\n",
    "    else:\n",
    "        print(\"El limite se supera en:\", tabla_tiempos[index])\n",
    "        print(\"El index es: \", index)\n",
    "        return tabla_tiempos[index]\n",
    "        \n",
    "        "
   ]
  },
  {
   "cell_type": "code",
   "execution_count": null,
   "metadata": {},
   "outputs": [],
   "source": []
  },
  {
   "cell_type": "markdown",
   "metadata": {},
   "source": [
    "# Simulacion memoria fijando t = 1.80"
   ]
  },
  {
   "cell_type": "code",
   "execution_count": 139,
   "metadata": {},
   "outputs": [
    {
     "name": "stdout",
     "output_type": "stream",
     "text": [
      "Generated graph G with 100000 nodes\n",
      "Generated graph G with  edges 500249  enlaces\n",
      "Simulacion  parte 1 finalizada\n",
      "Numero de enlaces del grafo(tras la modificacion): 49659\n",
      "Simulacion parte 2 finalizada\n",
      "Simulacion completada\n"
     ]
    }
   ],
   "source": [
    "# GENERAMOS EL GRAFO\n",
    "\n",
    "\n",
    "#Erdos-renyi\n",
    "N = 10**5#number of individuals\n",
    "kave = 10#expected number of partners\n",
    "g_erdosrenyi_1M_ejem3 = nx.fast_gnp_random_graph(N, kave/(N-1))#Erdo's-Re'nyi graph\n",
    "\n",
    "print('Generated graph G with {} nodes'.format(N))\n",
    "print('Generated graph G with  edges', len(list(g_erdosrenyi_1M_ejem3.edges)),\" enlaces\")\n",
    "\n",
    "\n",
    "\n",
    "#-----------------SIMULACION PARTE 1\n",
    "\n",
    "sim_erdosrenyi_1M_part1_ejem3= EoN.fast_SIR(g_erdosrenyi_1M_ejem3, tau, gamma, rho=rho, return_full_data = True)\n",
    "print(\"Simulacion  parte 1 finalizada\")\n",
    "\n",
    "#Esto lo haria para quedarme con la evolucion de la grafica hasta el tiempo t\n",
    "tiempos_parte1_ejem3, estados_parte1_ejem3= sim_erdosrenyi_1M_part1_ejem3.summary()\n",
    "infectados_parte1_ejem3 = estados_parte1_ejem3['I']\n",
    "\n",
    "#A partir de tiempo t, cojo los nodos que se encuentran en cada estado\n",
    "\n",
    "\n",
    "\n",
    "tiempo=1.8\n",
    "simulacion = sim_erdosrenyi_1M_part1_ejem3\n",
    "susceptibles_ejem3,infectados_ejem3, recuperados_ejem3 = get_listados_nodos_a_tiempo(simulacion, tiempo)\n",
    "\n",
    "\n",
    "\n",
    "\n",
    "#--------------SIMULACION PARTE 2\n",
    "\n",
    "#Modifico en grafo\n",
    "\n",
    "np.random.seed (123) #Semilla para la simluacion\n",
    "\n",
    "\n",
    "prob = 0.9 #probabilidad de borrar un enlace\n",
    "g_erdosrenyi_1M_ejem3 = elimina_enlaces(g_erdosrenyi_1M_ejem3,prob)\n",
    "print(\"Numero de enlaces del grafo(tras la modificacion):\", len(list(g_erdosrenyi_1M_ejem3.edges) ))\n",
    "\n",
    "\n",
    "#simulo de nuevo(ofo con paserle bien las proporciones que no lo comprueba)\n",
    "sim_erdosrenyi_1M_part2_ejem3= EoN.fast_SIR(g_erdosrenyi_1M_ejem3, tau, gamma,  return_full_data = True, initial_infecteds=infectados_ejem3, initial_recovereds=recuperados_ejem3 )\n",
    "print(\"Simulacion parte 2 finalizada\")\n",
    "\n",
    "tiempos_parte2_ejem3, estados_parte2_ejem3= sim_erdosrenyi_1M_part2_ejem3.summary()\n",
    "tiempos_parte2_ejem3 = tiempos_parte2_ejem3[1:] #ya que en tiempo 0 hay 0 infectados\n",
    "tiempos_parte2_ejem3 = [x + tiempo for x in tiempos_parte2_ejem3] # desplazamos los tiempos desde timepo\n",
    "infectados_parte2_ejem3 = estados_parte2_ejem3['I']\n",
    "infectados_parte2_ejem3 = infectados_parte2_ejem3[1:] #ya que en tiempo 0 hay 0 infectados\n",
    "\n",
    "\n",
    "\n",
    "#Reconpongo la parte1 de tiempos (hasta tiempo) con la parte2(entera), ojo esto tiene que ser asi\n",
    "index = 0\n",
    "while(tiempo > tiempos_parte1_ejem3[index]):\n",
    "    index +=1\n",
    "\n",
    "        \n",
    "tiempos_finales_ejem3= list(tiempos_parte1_ejem3[:index+1]) + list(tiempos_parte2_ejem3)\n",
    "infectados_finales_ejem3 = list(infectados_parte1_ejem3[:index+1]) + list(infectados_parte2_ejem3)\n",
    "\n",
    "print(\"Simulacion completada\")\n"
   ]
  },
  {
   "cell_type": "code",
   "execution_count": 140,
   "metadata": {},
   "outputs": [
    {
     "data": {
      "image/png": "[encoded data removed]",
      "text/plain": [
       "<Figure size 432x288 with 1 Axes>"
      ]
     },
     "metadata": {
      "needs_background": "light"
     },
     "output_type": "display_data"
    }
   ],
   "source": [
    "#Representacion\n",
    "\n",
    "#Pintamos solo la parte 1 de la simulacion\n",
    "lista1= list(tiempos_parte1_ejem3[:index+1])\n",
    "lista2= list(infectados_parte1_ejem3[:index+1])\n",
    "plt.plot(lista1,lista2 , label = 'Parte 1 simulacion hasta t', color = 'orange')\n",
    "\n",
    "#Pintamos solo la parte 2 de la simulacion \n",
    "\n",
    "plt.plot(tiempos_parte2_ejem3,infectados_parte2_ejem3 , label = 'Parte 2 simulacion( desde t)', color = 'red')\n",
    "#plt.plot(1.80,0, '*')\n",
    "plt.xlabel('$t$')\n",
    "plt.ylabel('Number infected')\n",
    "plt.legend()\n",
    "plt.show()"
   ]
  },
  {
   "cell_type": "code",
   "execution_count": 141,
   "metadata": {},
   "outputs": [],
   "source": [
    "######################################################################################\n",
    "########################Aqui empieza la validación##################################\n",
    "#######################################################################################"
   ]
  },
  {
   "cell_type": "markdown",
   "metadata": {},
   "source": [
    "# VALIDACION\n"
   ]
  },
  {
   "cell_type": "markdown",
   "metadata": {},
   "source": [
    "## 1 Creacion del grafo y definicion de parametros"
   ]
  },
  {
   "cell_type": "code",
   "execution_count": 142,
   "metadata": {},
   "outputs": [],
   "source": [
    "\n",
    "N = 10**5#number of individuals\n",
    "\n",
    "# grafo\n",
    "tau = 0.3#transmission rate\n",
    "gamma = 1.0 #recovery rate\n",
    "rho = 0.005#initial fraction infected\n",
    "\n",
    "# campo medio\n",
    "# Infection rate, beta, and mean recovery rate, gamma.\n",
    "I0, R0 = 500, 0 # 500 initial infected (0.005 of 10**5)\n",
    "S0 = N - I0 - R0"
   ]
  },
  {
   "cell_type": "code",
   "execution_count": 143,
   "metadata": {},
   "outputs": [],
   "source": [
    "#CREAR GRAFO ERDOS–RENYI -  (1M individuos, 5 conexiones de promedio)\n",
    "kave = 10#expected number of partners\n",
    "\n",
    "g = nx.fast_gnp_random_graph(N, kave/(N-1))#Erdo's-Re'nyi graph\n",
    "t_g, S_g, I_g, R__g = EoN.fast_SIR(g, tau, gamma, rho=rho)"
   ]
  },
  {
   "cell_type": "markdown",
   "metadata": {},
   "source": [
    "## 2 Definicion Modelo SIR"
   ]
  },
  {
   "cell_type": "code",
   "execution_count": 144,
   "metadata": {},
   "outputs": [],
   "source": [
    "# campo medio\n",
    "# Infection rate, beta, and mean recovery rate, gamma.\n",
    "I0, R0 = 500, 0 # 500 initial infected (0.005 of 10**5)\n",
    "S0 = N - I0 - R0"
   ]
  },
  {
   "cell_type": "code",
   "execution_count": 145,
   "metadata": {},
   "outputs": [],
   "source": [
    "# The SIR model differential equations.\n",
    "def sir(y, t, beta, gamma):\n",
    "    S, I, R = y\n",
    "    dSdt = -beta * S * I\n",
    "    dIdt = beta * S * I - gamma * I\n",
    "    dRdt = gamma * I\n",
    "    \n",
    "    return dSdt, dIdt, dRdt\n",
    "\n",
    "# Initial conditions vector\n",
    "y0 = S0, I0, R0\n",
    "\n",
    "t = np.linspace(start=0,stop=20)\n"
   ]
  },
  {
   "cell_type": "markdown",
   "metadata": {},
   "source": [
    "## 3 Encontrando los parámetros optimos\n",
    "\n"
   ]
  },
  {
   "cell_type": "markdown",
   "metadata": {},
   "source": [
    "## 3.1 Encontramos Parametros Optimos(Parte 1 de la simulacion)"
   ]
  },
  {
   "cell_type": "code",
   "execution_count": 146,
   "metadata": {},
   "outputs": [],
   "source": [
    "#Ponemos nuestra funcion a fitear en formato correcto para pasarsela a scipy\n",
    "y0 = S0, I0, R0\n",
    "\n",
    "def fun_2_fit(xdata,beta,gamma):\n",
    "    \n",
    "\n",
    "    y = odeint(sir, y0, xdata, args=(beta, gamma))\n",
    "    S = y[:,0]\n",
    "    I = y[:,1]\n",
    "    R = y[:,2]\n",
    "    return I"
   ]
  },
  {
   "cell_type": "code",
   "execution_count": 147,
   "metadata": {},
   "outputs": [],
   "source": [
    "#Fiteamos para encontrar los parametros optimos\n",
    "\n",
    "f= fun_2_fit\n",
    "xdata = lista1\n",
    "ydata= lista2\n",
    "#p0= [beta,gamma] estimados que creemos que pueden ser aproximados\n",
    "p0= [ 0.000027, 1]\n",
    "\n",
    "params, params_covariance = scipy.optimize.curve_fit(f, xdata, ydata, p0)\n"
   ]
  },
  {
   "cell_type": "markdown",
   "metadata": {},
   "source": [
    "## 3.1.1 Obtenemos la grafica de la parte 1, integrando hasta t= 1.80"
   ]
  },
  {
   "cell_type": "code",
   "execution_count": 148,
   "metadata": {},
   "outputs": [
    {
     "name": "stdout",
     "output_type": "stream",
     "text": [
      "beta_ajustado: 3.223947945602913e-05\n",
      "gamma_ajustado: 1.3928984226728849\n"
     ]
    }
   ],
   "source": [
    "#Ya hemos obtenido los parametros, obtenemos la grafica con los parametros ajustados\n",
    "beta_ajustado = params[0]\n",
    "gamma_ajustado= params[1]\n",
    "print(\"beta_ajustado:\",beta_ajustado)\n",
    "print(\"gamma_ajustado:\",gamma_ajustado)\n",
    "# Integrate the SIR equations over the time grid, t.\n",
    "y = odeint(sir, y0, lista1, args=(beta_ajustado, gamma_ajustado))\n",
    "S = y[:,0]\n",
    "I = y[:,1]\n",
    "R = y[:,2]"
   ]
  },
  {
   "cell_type": "markdown",
   "metadata": {},
   "source": [
    "## 3.1.2 Dibujamos una vez obtenidos parametros optimos\n"
   ]
  },
  {
   "cell_type": "code",
   "execution_count": 149,
   "metadata": {},
   "outputs": [
    {
     "data": {
      "image/png": "[encoded data removed]",
      "text/plain": [
       "<Figure size 432x288 with 1 Axes>"
      ]
     },
     "metadata": {
      "needs_background": "light"
     },
     "output_type": "display_data"
    }
   ],
   "source": [
    "\n",
    "plt.plot(lista1, lista2, label = 'Grafo_(Erdos-Renyi(parte1 de la simulacion))')\n",
    "#plt.plot(t,S,'r',label='S(t)_Campo_Medio')\n",
    "plt.plot(lista1, I,label='Campo_Medio_ODE_Ajustado(parte1 de la simulacion)')\n",
    "#plt.plot(t,R,'g',label='R(t)_Campo_Medio')\n",
    "plt.ylabel('Number infected')\n",
    "plt.xlabel('$t$')\n",
    "\n",
    "#Ajuste de escala\n",
    "#axes = plt.gca()\n",
    "#axes.set_xlim([0,20])\n",
    "\n",
    "plt.legend()\n",
    "plt.show()\n"
   ]
  },
  {
   "cell_type": "markdown",
   "metadata": {},
   "source": [
    "## 3.1.3 Test de Kolmogorov parte 1 de la simulación "
   ]
  },
  {
   "cell_type": "code",
   "execution_count": 150,
   "metadata": {},
   "outputs": [
    {
     "name": "stdout",
     "output_type": "stream",
     "text": [
      "KstestResult(statistic=0.014512621726387454, pvalue=0.023005585507189313)\n"
     ]
    }
   ],
   "source": [
    "print(st.kstest(lista2,I))"
   ]
  },
  {
   "cell_type": "markdown",
   "metadata": {},
   "source": [
    "Observamos un estadístico bajo, que nos confirma lo que veiamos graficamente: se el modelo a validar se ajusta en la parte 1 de nuestra simulacion"
   ]
  },
  {
   "cell_type": "code",
   "execution_count": null,
   "metadata": {},
   "outputs": [],
   "source": []
  },
  {
   "cell_type": "code",
   "execution_count": null,
   "metadata": {},
   "outputs": [],
   "source": []
  },
  {
   "cell_type": "markdown",
   "metadata": {},
   "source": [
    "## 3.2 Encontramos Parametros Optimos(Parte 2 de la simulacion)"
   ]
  },
  {
   "cell_type": "code",
   "execution_count": 151,
   "metadata": {},
   "outputs": [],
   "source": [
    "#Vector de condiciones iniciales(punto donde se continua con la segunda parte de la simulacion)\n",
    "S1=len(susceptibles_ejem3)\n",
    "I1=len(infectados_ejem3)\n",
    "R1=len(recuperados_ejem3)\n",
    "y1 = S1, I1, R1\n",
    "\n",
    "\n",
    "def fun_2_fit(xdata,beta,gamma):\n",
    "    \n",
    "\n",
    "    y = odeint(sir, y1, xdata, args=(beta, gamma)) #AQUI LE PASAMOS Y1\n",
    "    S = y[:,0]\n",
    "    I = y[:,1]\n",
    "    R = y[:,2]\n",
    "    return I"
   ]
  },
  {
   "cell_type": "code",
   "execution_count": 152,
   "metadata": {},
   "outputs": [],
   "source": [
    "#Fiteamos para encontrar los parametros optimos\n",
    "\n",
    "f= fun_2_fit\n",
    "xdata1 = tiempos_parte2_ejem3\n",
    "ydata2 = infectados_parte2_ejem3\n",
    "#p0= [beta,gamma] estimados que creemos que pueden ser aproximados\n",
    "p0= [ 0.000027, 1]\n",
    "\n",
    "params1, params_covariance1 = scipy.optimize.curve_fit(f, xdata, ydata, p0)"
   ]
  },
  {
   "cell_type": "markdown",
   "metadata": {},
   "source": [
    "## 3.2.1 Obtenemos la grafica de la parte 2, integrando desde t= 1.80"
   ]
  },
  {
   "cell_type": "code",
   "execution_count": 153,
   "metadata": {},
   "outputs": [
    {
     "name": "stdout",
     "output_type": "stream",
     "text": [
      "beta_ajustado: 1.5021226179053512e-08\n",
      "gamma_ajustado: 0.3895349509601095\n"
     ]
    }
   ],
   "source": [
    "#Ya hemos obtenido los parametros, obtenemos la grafica con los parametros ajustados\n",
    "beta_ajustado1 = params1[0]\n",
    "gamma_ajustado1= params1[1]\n",
    "print(\"beta_ajustado:\",beta_ajustado1)\n",
    "print(\"gamma_ajustado:\",gamma_ajustado1)\n",
    "# Integrate the SIR equations over the time grid, t.\n",
    "#t1 = np.linspace(start=1.8,stop=20)\n",
    "\n",
    "y = odeint(sir, y1, xdata1, args=(beta_ajustado1, gamma_ajustado1))\n",
    "S1 = y[:,0]\n",
    "I1 = y[:,1]\n",
    "R1 = y[:,2]"
   ]
  },
  {
   "cell_type": "markdown",
   "metadata": {},
   "source": [
    "## 3.2.2 Dibujamos una vez obtenidos parametros optimos"
   ]
  },
  {
   "cell_type": "code",
   "execution_count": 154,
   "metadata": {},
   "outputs": [
    {
     "data": {
      "image/png": "[encoded data removed]",
      "text/plain": [
       "<Figure size 432x288 with 1 Axes>"
      ]
     },
     "metadata": {
      "needs_background": "light"
     },
     "output_type": "display_data"
    }
   ],
   "source": [
    "\n",
    "plt.plot(tiempos_parte2_ejem3, infectados_parte2_ejem3, label = 'Grafo_(Erdos-Renyi(parte2 de la simulacion))')\n",
    "#plt.plot(t,S,'r',label='S(t)_Campo_Medio')\n",
    "plt.plot(tiempos_parte2_ejem3, I1,label='Campo_Medio_ODE_Ajustado(parte2 de la simulacion)')\n",
    "#plt.plot(t,R,'g',label='R(t)_Campo_Medio')\n",
    "plt.ylabel('Number infected')\n",
    "plt.xlabel('$t$')\n",
    "\n",
    "#Ajuste de escala\n",
    "axes = plt.gca()\n",
    "axes.set_xlim([0,20])\n",
    "\n",
    "plt.legend()\n",
    "plt.show()\n"
   ]
  },
  {
   "cell_type": "markdown",
   "metadata": {},
   "source": [
    "## 3.2.3 Test de Kolmogorov parte 2 de la simulación "
   ]
  },
  {
   "cell_type": "code",
   "execution_count": 155,
   "metadata": {},
   "outputs": [
    {
     "name": "stdout",
     "output_type": "stream",
     "text": [
      "KstestResult(statistic=0.26318819719323494, pvalue=0.0)\n"
     ]
    }
   ],
   "source": [
    "print(st.kstest(infectados_parte2_ejem3,I1))"
   ]
  },
  {
   "cell_type": "markdown",
   "metadata": {},
   "source": [
    "Obtenemos un valor alto para el estadístico. Lo que quiere decir que nuestro modelo de comportanmiento individual sobre una población no se adapta bién a un modelo de campo medio, como es el caso del ODE-SIR. A pesar de que gráficamente, podemos decir que tienen un comportanmiento en el tiempo similar, los datos distan bastante en aproximación."
   ]
  },
  {
   "cell_type": "code",
   "execution_count": null,
   "metadata": {},
   "outputs": [],
   "source": []
  },
  {
   "cell_type": "code",
   "execution_count": null,
   "metadata": {},
   "outputs": [],
   "source": []
  },
  {
   "cell_type": "code",
   "execution_count": null,
   "metadata": {},
   "outputs": [],
   "source": []
  },
  {
   "cell_type": "markdown",
   "metadata": {},
   "source": [
    "# VALIDACION DE TODO EL MODELO EN CONJUNTO"
   ]
  },
  {
   "cell_type": "code",
   "execution_count": null,
   "metadata": {},
   "outputs": [],
   "source": []
  },
  {
   "cell_type": "markdown",
   "metadata": {},
   "source": [
    "## 1 Creacion del grafo y definicion de parametros"
   ]
  },
  {
   "cell_type": "code",
   "execution_count": 156,
   "metadata": {},
   "outputs": [],
   "source": [
    "\n",
    "N = 10**5#number of individuals\n",
    "\n",
    "# grafo\n",
    "tau = 0.3#transmission rate\n",
    "gamma = 1.0 #recovery rate\n",
    "rho = 0.005#initial fraction infected\n",
    "\n",
    "# campo medio\n",
    "# Infection rate, beta, and mean recovery rate, gamma.\n",
    "I0, R0 = 500, 0 # 500 initial infected (0.005 of 10**5)\n",
    "S0 = N - I0 - R0"
   ]
  },
  {
   "cell_type": "code",
   "execution_count": 157,
   "metadata": {},
   "outputs": [],
   "source": [
    "## 2 Definicion Modelo SIR"
   ]
  },
  {
   "cell_type": "code",
   "execution_count": 158,
   "metadata": {},
   "outputs": [],
   "source": [
    "# campo medio\n",
    "# Infection rate, beta, and mean recovery rate, gamma.\n",
    "I0, R0 = 500, 0 # 500 initial infected (0.005 of 10**5)\n",
    "S0 = N - I0 - R0"
   ]
  },
  {
   "cell_type": "code",
   "execution_count": 159,
   "metadata": {},
   "outputs": [],
   "source": [
    "## 3.1 Encontramos Parametros Optimos(Parte 1 de la simulacion)"
   ]
  },
  {
   "cell_type": "code",
   "execution_count": 160,
   "metadata": {},
   "outputs": [],
   "source": [
    "#Ponemos nuestra funcion a fitear en formato correcto para pasarsela a scipy\n",
    "y0 = S0, I0, R0\n",
    "\n",
    "def fun_2_fit(xdata,beta,gamma):\n",
    "    \n",
    "\n",
    "    y = odeint(sir, y0, xdata, args=(beta, gamma))\n",
    "    S = y[:,0]\n",
    "    I = y[:,1]\n",
    "    R = y[:,2]\n",
    "    return I"
   ]
  },
  {
   "cell_type": "code",
   "execution_count": 161,
   "metadata": {},
   "outputs": [],
   "source": [
    "#Fiteamos para encontrar los parametros optimos\n",
    "\n",
    "f= fun_2_fit\n",
    "#xdata = np.array(tiempos_finales_ejem3)\n",
    "#ydata= np.array( infectados_finales_ejem3)\n",
    "xdata = np.append(lista1[:-1],tiempos_parte2_ejem3)\n",
    "ydata= np.append( lista2[:-1],infectados_parte2_ejem3)\n",
    "\n",
    "#p0= [beta,gamma] estimados que creemos que pueden ser aproximados\n",
    "p0= [ 0.000027, 1]\n",
    "\n",
    "params3, params_covariance3 = scipy.optimize.curve_fit(f, xdata, ydata, p0)\n"
   ]
  },
  {
   "cell_type": "code",
   "execution_count": 162,
   "metadata": {},
   "outputs": [],
   "source": [
    "## 3.1.1 Obtenemos la grafica de la parte 1, integrando hasta t= 1.80"
   ]
  },
  {
   "cell_type": "code",
   "execution_count": 163,
   "metadata": {},
   "outputs": [
    {
     "name": "stdout",
     "output_type": "stream",
     "text": [
      "beta_ajustado: 5.934990798101461e-05\n",
      "gamma_ajustado: 3.73470447146208\n"
     ]
    }
   ],
   "source": [
    "#Ya hemos obtenido los parametros, obtenemos la grafica con los parametros ajustados\n",
    "beta_ajustado3 = params3[0]\n",
    "gamma_ajustado3= params3[1]\n",
    "print(\"beta_ajustado:\",beta_ajustado3)\n",
    "print(\"gamma_ajustado:\",gamma_ajustado3)\n",
    "# Integrate the SIR equations over the time grid, t.\n",
    "y = odeint(sir, y0, xdata, args=(beta_ajustado3, gamma_ajustado3))\n",
    "S = y[:,0]\n",
    "I3 = y[:,1]\n",
    "R = y[:,2]"
   ]
  },
  {
   "cell_type": "code",
   "execution_count": 164,
   "metadata": {},
   "outputs": [],
   "source": [
    "#dibujamos"
   ]
  },
  {
   "cell_type": "code",
   "execution_count": 165,
   "metadata": {},
   "outputs": [
    {
     "data": {
      "image/png": "[encoded data removed]",
      "text/plain": [
       "<Figure size 432x288 with 1 Axes>"
      ]
     },
     "metadata": {
      "needs_background": "light"
     },
     "output_type": "display_data"
    }
   ],
   "source": [
    "\n",
    "plt.plot(tiempos_finales_ejem3, infectados_finales_ejem3, label = 'Grafo_(Erdos-Renyi')\n",
    "#plt.plot(t,S,'r',label='S(t)_Campo_Medio')\n",
    "plt.plot(xdata, I3,label='Campo_Medio_ODE_Ajustado')\n",
    "#plt.plot(t,R,'g',label='R(t)_Campo_Medio')\n",
    "plt.ylabel('Number infected')\n",
    "plt.xlabel('$t$')\n",
    "\n",
    "#Ajuste de escala\n",
    "#axes = plt.gca()\n",
    "#axes.set_xlim([0,20])\n",
    "\n",
    "plt.legend()\n",
    "plt.show()"
   ]
  },
  {
   "cell_type": "code",
   "execution_count": null,
   "metadata": {},
   "outputs": [],
   "source": []
  },
  {
   "cell_type": "markdown",
   "metadata": {},
   "source": [
    "## Test de Kolmogorov de el conjunto de la simulacion con el modelo ODE-SIR"
   ]
  },
  {
   "cell_type": "code",
   "execution_count": 166,
   "metadata": {},
   "outputs": [
    {
     "name": "stdout",
     "output_type": "stream",
     "text": [
      "KstestResult(statistic=0.16996205312562418, pvalue=0.0)\n"
     ]
    }
   ],
   "source": [
    "print(st.kstest(infectados_finales_ejem3,I3))"
   ]
  },
  {
   "cell_type": "markdown",
   "metadata": {},
   "source": [
    "No pasamos el test de kolmogorov(estadístico grande). Como podemos comprobar, el modelo de campo medio ODE-SIR, no es capaz de adaptarse bien a nuestro modelo cuando las interacciones individuales afectan a este. Con lo que no podríamos validar dichos resultados con un modelo de campo medio."
   ]
  },
  {
   "cell_type": "code",
   "execution_count": null,
   "metadata": {},
   "outputs": [],
   "source": []
  },
  {
   "cell_type": "code",
   "execution_count": null,
   "metadata": {},
   "outputs": [],
   "source": []
  },
  {
   "cell_type": "code",
   "execution_count": null,
   "metadata": {},
   "outputs": [],
   "source": []
  }
 ],
 "metadata": {
  "kernelspec": {
   "display_name": "Python 3",
   "language": "python",
   "name": "python3"
  },
  "language_info": {
   "codemirror_mode": {
    "name": "ipython",
    "version": 3
   },
   "file_extension": ".py",
   "mimetype": "text/x-python",
   "name": "python",
   "nbconvert_exporter": "python",
   "pygments_lexer": "ipython3",
   "version": "3.8.3"
  }
 },
 "nbformat": 4,
 "nbformat_minor": 4
}
