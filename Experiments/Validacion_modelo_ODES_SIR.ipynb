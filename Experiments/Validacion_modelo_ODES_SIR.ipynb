{
 "cells": [
  {
   "cell_type": "code",
   "execution_count": 145,
   "metadata": {},
   "outputs": [],
   "source": [
    "import networkx as nx\n",
    "import EoN\n",
    "import matplotlib.pyplot as plt\n",
    "import numpy as np\n",
    "import scipy as scipy\n",
    "import scipy.stats as st\n",
    "from scipy.integrate import odeint"
   ]
  },
  {
   "cell_type": "markdown",
   "metadata": {},
   "source": [
    "# Creacion del grafo y definicion de parametros"
   ]
  },
  {
   "cell_type": "code",
   "execution_count": 146,
   "metadata": {},
   "outputs": [],
   "source": [
    "\n",
    "\n",
    "N = 10**5#number of individuals\n",
    "\n",
    "# grafo\n",
    "tau = 0.3#transmission rate\n",
    "gamma = 1.0 #recovery rate\n",
    "rho = 0.005#initial fraction infected\n",
    "\n",
    "# campo medio\n",
    "# Infection rate, beta, and mean recovery rate, gamma.\n",
    "I0, R0 = 500, 0 # 500 initial infected (0.005 of 10**5)\n",
    "S0 = N - I0 - R0"
   ]
  },
  {
   "cell_type": "code",
   "execution_count": 147,
   "metadata": {},
   "outputs": [],
   "source": [
    "#CREAR GRAFO ERDOS–RENYI -  (1M individuos, 5 conexiones de promedio)\n",
    "kave = 10#expected number of partners\n",
    "\n",
    "g = nx.fast_gnp_random_graph(N, kave/(N-1))#Erdo's-Re'nyi graph\n",
    "t_g, S_g, I_g, R__g = EoN.fast_SIR(g, tau, gamma, rho=rho)"
   ]
  },
  {
   "cell_type": "markdown",
   "metadata": {},
   "source": [
    "# Definicion Modelo SIR"
   ]
  },
  {
   "cell_type": "code",
   "execution_count": 148,
   "metadata": {},
   "outputs": [],
   "source": [
    "# The SIR model differential equations.\n",
    "def sir(y, t, beta, gamma):\n",
    "    S, I, R = y\n",
    "    dSdt = -beta * S * I\n",
    "    dIdt = beta * S * I - gamma * I\n",
    "    dRdt = gamma * I\n",
    "    \n",
    "    return dSdt, dIdt, dRdt\n",
    "\n",
    "# Initial conditions vector\n",
    "y0 = S0, I0, R0\n",
    "\n",
    "t = np.linspace(start=0,stop=20)\n"
   ]
  },
  {
   "cell_type": "code",
   "execution_count": 149,
   "metadata": {},
   "outputs": [
    {
     "data": {
      "text/plain": [
       "' \\nbeta, gamma = 0.0000265, 1\\n\\n\\n# Integrate the SIR equations over the time grid, t.\\ny = odeint(sir, y0, t_g, args=(beta, gamma))\\nS = y[:,0]\\nI = y[:,1]\\nR = y[:,2]\\n'"
      ]
     },
     "execution_count": 149,
     "metadata": {},
     "output_type": "execute_result"
    }
   ],
   "source": [
    "''' \n",
    "beta, gamma = 0.0000265, 1\n",
    "\n",
    "\n",
    "# Integrate the SIR equations over the time grid, t.\n",
    "y = odeint(sir, y0, t_g, args=(beta, gamma))\n",
    "S = y[:,0]\n",
    "I = y[:,1]\n",
    "R = y[:,2]\n",
    "'''"
   ]
  },
  {
   "cell_type": "markdown",
   "metadata": {},
   "source": [
    "# Encontramos Parametros Optimos"
   ]
  },
  {
   "cell_type": "code",
   "execution_count": 150,
   "metadata": {},
   "outputs": [],
   "source": [
    "#Ponemos nuestra funcion a fitear en formato correcto para pasarsela a scipy\n",
    "y0 = S0, I0, R0\n",
    "\n",
    "def fun_2_fit(xdata,beta,gamma):\n",
    "    \n",
    "\n",
    "    y = odeint(sir, y0, xdata, args=(beta, gamma))\n",
    "    S = y[:,0]\n",
    "    I = y[:,1]\n",
    "    R = y[:,2]\n",
    "    return I"
   ]
  },
  {
   "cell_type": "code",
   "execution_count": null,
   "metadata": {},
   "outputs": [],
   "source": []
  },
  {
   "cell_type": "code",
   "execution_count": 151,
   "metadata": {},
   "outputs": [],
   "source": [
    "#Fiteamos para encontrar los parametros optimos\n",
    "#p0= [beta,gamma]\n",
    "f= fun_2_fit\n",
    "xdata = t_g\n",
    "ydata= I_g\n",
    "p0= [ 0.000027, 1]\n",
    "\n",
    "params, params_covariance = scipy.optimize.curve_fit(f, xdata, ydata, p0)\n"
   ]
  },
  {
   "cell_type": "code",
   "execution_count": 152,
   "metadata": {},
   "outputs": [
    {
     "name": "stdout",
     "output_type": "stream",
     "text": [
      "beta_ajustado: 2.7488424431027747e-05\n",
      "gamma_ajustado: 1.0530871519673743\n"
     ]
    }
   ],
   "source": [
    "#Ya hemos obtenido los parametros, obtenemos la grafica con los parametros ajustados\n",
    "beta_ajustado = params[0]\n",
    "gamma_ajustado= params[1]\n",
    "print(\"beta_ajustado:\",beta_ajustado)\n",
    "print(\"gamma_ajustado:\",gamma_ajustado)\n",
    "# Integrate the SIR equations over the time grid, t.\n",
    "y = odeint(sir, y0, t_g, args=(beta_ajustado, gamma_ajustado))\n",
    "S = y[:,0]\n",
    "I = y[:,1]\n",
    "R = y[:,2]"
   ]
  },
  {
   "cell_type": "markdown",
   "metadata": {},
   "source": [
    "# Dibujamos una vez obtenidos parametros optimos"
   ]
  },
  {
   "cell_type": "code",
   "execution_count": 153,
   "metadata": {},
   "outputs": [
    {
     "data": {
      "image/png": "[encoded data removed]",
      "text/plain": [
       "<Figure size 432x288 with 1 Axes>"
      ]
     },
     "metadata": {
      "needs_background": "light"
     },
     "output_type": "display_data"
    }
   ],
   "source": [
    "\n",
    "plt.plot(t_g, I_g, label = 'Grafo_(Erdos-Renyi)')\n",
    "#plt.plot(t,S,'r',label='S(t)_Campo_Medio')\n",
    "plt.plot(t_g, I,label='Campo_Medio_ODE_Ajustado')\n",
    "#plt.plot(t,R,'g',label='R(t)_Campo_Medio')\n",
    "plt.ylabel('Number infected')\n",
    "plt.xlabel('$t$')\n",
    "plt.legend()\n",
    "plt.show()\n"
   ]
  },
  {
   "cell_type": "markdown",
   "metadata": {},
   "source": [
    "# Test de Kolmogorov"
   ]
  },
  {
   "cell_type": "code",
   "execution_count": 154,
   "metadata": {},
   "outputs": [
    {
     "name": "stdout",
     "output_type": "stream",
     "text": [
      "KstestResult(statistic=0.053291390766842195, pvalue=1.7770591056720215e-213)\n"
     ]
    }
   ],
   "source": [
    "\n",
    "\n",
    "print(st.kstest(I_g,I))"
   ]
  },
  {
   "cell_type": "markdown",
   "metadata": {},
   "source": [
    "Hemos obtenido un estadístico pequeño y en consecuencia un pvalue alto. Es decir, que las distancia máxima entre ambas curvas es pequeña. Indicación de que hemos pasado el test de Kolmogorov,como intuiamos de manera gráfica, y podemos aceptar nuestra hipótesis H0  de que ambas curvas siguen la misma distribución.\n"
   ]
  },
  {
   "cell_type": "code",
   "execution_count": null,
   "metadata": {},
   "outputs": [],
   "source": []
  },
  {
   "cell_type": "markdown",
   "metadata": {},
   "source": [
    "# Valor esperado e intervalo de confianza"
   ]
  },
  {
   "cell_type": "code",
   "execution_count": null,
   "metadata": {},
   "outputs": [],
   "source": [
    "#Funcion de distribucion acumulada empirica\n",
    "def ecdf(data):\n",
    "    x = np.sort(data)\n",
    "    n = x.size\n",
    "    y = np.arange(1, n+1) / float(n)\n",
    "    return(x,y)"
   ]
  },
  {
   "cell_type": "code",
   "execution_count": 158,
   "metadata": {},
   "outputs": [],
   "source": [
    "def mean_confidence (sample, alpha) :\n",
    "    ''' Devuelve la media muestral y el intervalo de confianza '''\n",
    "    # valor de z_alpha/2\n",
    "    z_2 =  scipy.stats.norm.ppf(1 - (alpha / 2) )\n",
    "    \n",
    "    # media muestral\n",
    "    sample_mean = np.mean (sample, dtype=np.float64)\n",
    "    # varianza de la muestra (n-1)\n",
    "    s2 = np.var (sample, ddof=1, dtype=np.float64)\n",
    "    #limites del intervalo de confianza\n",
    "    I_LEFT = sample_mean - z_2 * np.sqrt(s2) / np.sqrt(len(sample)) \n",
    "    I_RIGHT = sample_mean + z_2 * np.sqrt(s2) / np.sqrt(len(sample))  \n",
    "    \n",
    "    return (sample_mean, I_LEFT, I_RIGHT)\n",
    "    "
   ]
  },
  {
   "cell_type": "code",
   "execution_count": 164,
   "metadata": {},
   "outputs": [
    {
     "name": "stdout",
     "output_type": "stream",
     "text": [
      "Media: 16530.956093548146\n",
      "Tamaño de la muestra, n= 172617\n",
      "16495.965732979348 <= μ _estimado <= 16565.946454116944\n",
      " Error en la estimacion: 69.98\n"
     ]
    }
   ],
   "source": [
    "# Para nuestra simulacion\n",
    "sample = I_g\n",
    "\n",
    "# media e intervalo de confianza  \n",
    "alpha = 0.05\n",
    "\n",
    "sample_mean, i_left, i_right = mean_confidence (sample, alpha)\n",
    "print(\"Media:\",sample_mean )\n",
    "print(\"Tamaño de la muestra, n=\", len(sample))\n",
    "print( i_left, \"<=\",  chr(956), '_estimado'  , \"<=\", i_right)   \n",
    "print (f' Error en la estimacion: {(i_right -i_left):.2f}' )  "
   ]
  },
  {
   "cell_type": "code",
   "execution_count": 165,
   "metadata": {},
   "outputs": [
    {
     "name": "stdout",
     "output_type": "stream",
     "text": [
      "Media: 16484.346252448788\n",
      "Tamaño de la muestra, n= 172617\n",
      "16448.875936645803 <= μ _estimado <= 16519.816568251772\n",
      " Error en la estimacion: 70.94\n"
     ]
    }
   ],
   "source": [
    "# Para el ODER SIR\n",
    "sample = I\n",
    "\n",
    "\n",
    "# media e intervalo de confianza  \n",
    "alpha = 0.05\n",
    "\n",
    "sample_mean, i_left, i_right = mean_confidence (sample, alpha)\n",
    "print(\"Media:\",sample_mean )\n",
    "\n",
    "print(\"Tamaño de la muestra, n=\", len(sample))\n",
    "print( i_left, \"<=\",  chr(956), '_estimado'  , \"<=\", i_right)   \n",
    "print (f' Error en la estimacion: {(i_right -i_left):.2f}' )  "
   ]
  },
  {
   "cell_type": "code",
   "execution_count": null,
   "metadata": {},
   "outputs": [],
   "source": []
  }
 ],
 "metadata": {
  "kernelspec": {
   "display_name": "Python 3",
   "language": "python",
   "name": "python3"
  },
  "language_info": {
   "codemirror_mode": {
    "name": "ipython",
    "version": 3
   },
   "file_extension": ".py",
   "mimetype": "text/x-python",
   "name": "python",
   "nbconvert_exporter": "python",
   "pygments_lexer": "ipython3",
   "version": "3.8.3"
  }
 },
 "nbformat": 4,
 "nbformat_minor": 4
}
