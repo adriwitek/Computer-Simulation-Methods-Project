{
 "cells": [
  {
   "cell_type": "code",
   "execution_count": 25,
   "metadata": {},
   "outputs": [],
   "source": [
    "\n",
    "import networkx as nx\n",
    "import EoN\n",
    "import matplotlib.pyplot as plt\n",
    "import numpy as np\n",
    "import scipy.stats as st\n",
    "import copy"
   ]
  },
  {
   "cell_type": "markdown",
   "metadata": {},
   "source": [
    "# Fijando los parametros del modelo.\n"
   ]
  },
  {
   "cell_type": "code",
   "execution_count": 2,
   "metadata": {},
   "outputs": [],
   "source": [
    "tau = 0.3#transmission rate\n",
    "gamma = 1.0 #recovery rate\n",
    "\n",
    "rho = 0.005#initial fraction infected\n"
   ]
  },
  {
   "cell_type": "markdown",
   "metadata": {},
   "source": [
    "# Funciones Propias Auxiliares Utiles"
   ]
  },
  {
   "cell_type": "code",
   "execution_count": 3,
   "metadata": {},
   "outputs": [],
   "source": [
    "#Codigo para partir las simulaciones\n",
    "\n",
    "\n",
    "def get_listados_nodos_a_tiempo(simulacion, tiempo):\n",
    "    \n",
    "    estados = simulacion.get_statuses(time=tiempo)\n",
    "    #dictionario nodo: status\n",
    "\n",
    "    susceptibles = []\n",
    "    infectados = []\n",
    "    recuperados = []\n",
    "\n",
    "    #print(type(estados[0]))\n",
    "\n",
    "    for nodo in estados.keys():\n",
    "        status = estados[nodo]\n",
    "        if(status == 'S'):\n",
    "            susceptibles.append(nodo)\n",
    "        elif(status == 'I'):\n",
    "            infectados.append(nodo)\n",
    "        else:\n",
    "            recuperados.append(nodo)\n",
    "            \n",
    "    return susceptibles,infectados, recuperados\n"
   ]
  },
  {
   "cell_type": "code",
   "execution_count": 4,
   "metadata": {},
   "outputs": [],
   "source": [
    "# Función que elimina enlaces\n",
    "def elimina_enlaces(grafo,prob):\n",
    "    \"\"\"\n",
    "        Probabilidad con la que eliminar un enlace con porbabilidad uniforme\n",
    "    \"\"\"\n",
    "    \n",
    "    \n",
    "    for edge in list(grafo.edges):\n",
    "        \n",
    "        r= np.random.uniform(0, 1)\n",
    "        if(r<= prob):\n",
    "            u,v = edge\n",
    "            grafo.remove_edge(u,v)\n",
    "\n",
    "\n",
    "\n",
    "    return grafo\n"
   ]
  },
  {
   "cell_type": "code",
   "execution_count": 11,
   "metadata": {},
   "outputs": [],
   "source": [
    "\n",
    "def encuentra_tiempo_limite_alcanzado(tabla_tiempos,tabla_infectados, limite):\n",
    "    \"\"\"\n",
    "        Encuentra el primer tiempo t a partir del cual el numero de infectados >= limite\n",
    "    \"\"\"\n",
    "    \n",
    "    assert len(tabla_tiempos) == len(tabla_infectados), \"Las tablas deben de tener le mismo tamaño\"\n",
    "    \n",
    "    index = -1\n",
    "    \n",
    "    for i in range(len(tabla_infectados)):\n",
    "        if(tabla_infectados[i]>= limite):\n",
    "            index = i\n",
    "            break\n",
    "            \n",
    "    if(index==-1):\n",
    "        print(\"ATENCION: El limite no se supera!\")\n",
    "        return -1\n",
    "    else:\n",
    "        print(\"El limite se supera en:\", tabla_tiempos[index])\n",
    "        print(\"El index es: \", index)\n",
    "        return tabla_tiempos[index]\n",
    "        \n",
    "        "
   ]
  },
  {
   "cell_type": "code",
   "execution_count": null,
   "metadata": {},
   "outputs": [],
   "source": []
  },
  {
   "cell_type": "markdown",
   "metadata": {},
   "source": [
    "# Simulacion memoria fijando t = 1.80"
   ]
  },
  {
   "cell_type": "code",
   "execution_count": 8,
   "metadata": {},
   "outputs": [
    {
     "name": "stdout",
     "output_type": "stream",
     "text": [
      "Generated graph G with 100000 nodes\n",
      "Generated graph G with  edges 500378  enlaces\n",
      "Simulacion  parte 1 finalizada\n",
      "Numero de enlaces del grafo(tras la modificacion): 250387\n",
      "Simulacion parte 2 finalizada\n",
      "Simulacion completada\n"
     ]
    }
   ],
   "source": [
    "# GENERAMOS EL GRAFO\n",
    "\n",
    "\n",
    "#Erdos-renyi\n",
    "N = 10**5#number of individuals\n",
    "kave = 10#expected number of partners\n",
    "g_erdosrenyi_1M_ejem3 = nx.fast_gnp_random_graph(N, kave/(N-1))#Erdo's-Re'nyi graph\n",
    "\n",
    "print('Generated graph G with {} nodes'.format(N))\n",
    "print('Generated graph G with  edges', len(list(g_erdosrenyi_1M_ejem3.edges)),\" enlaces\")\n",
    "\n",
    "\n",
    "\n",
    "#-----------------SIMULACION PARTE 1\n",
    "\n",
    "sim_erdosrenyi_1M_part1_ejem3= EoN.fast_SIR(g_erdosrenyi_1M_ejem3, tau, gamma, rho=rho, return_full_data = True)\n",
    "print(\"Simulacion  parte 1 finalizada\")\n",
    "\n",
    "#Esto lo haria para quedarme con la evolucion de la grafica hasta el tiempo t\n",
    "tiempos_parte1_ejem3, estados_parte1_ejem3= sim_erdosrenyi_1M_part1_ejem3.summary()\n",
    "infectados_parte1_ejem3 = estados_parte1_ejem3['I']\n",
    "\n",
    "#A partir de tiempo t, cojo los nodos que se encuentran en cada estado\n",
    "\n",
    "\n",
    "\n",
    "tiempo=1.8\n",
    "simulacion = sim_erdosrenyi_1M_part1_ejem3\n",
    "susceptibles_ejem3,infectados_ejem3, recuperados_ejem3 = get_listados_nodos_a_tiempo(simulacion, tiempo)\n",
    "\n",
    "\n",
    "\n",
    "\n",
    "#--------------SIMULACION PARTE 2\n",
    "\n",
    "#Modifico en grafo\n",
    "\n",
    "np.random.seed (123) #Semilla para la simluacion\n",
    "\n",
    "\n",
    "prob = 0.5 #probabilidad de borrar un enlace\n",
    "g_erdosrenyi_1M_ejem3 = elimina_enlaces(g_erdosrenyi_1M_ejem3,prob)\n",
    "print(\"Numero de enlaces del grafo(tras la modificacion):\", len(list(g_erdosrenyi_1M_ejem3.edges) ))\n",
    "\n",
    "\n",
    "#simulo de nuevo(ofo con paserle bien las proporciones que no lo comprueba)\n",
    "sim_erdosrenyi_1M_part2_ejem3= EoN.fast_SIR(g_erdosrenyi_1M_ejem3, tau, gamma,  return_full_data = True, initial_infecteds=infectados_ejem3, initial_recovereds=recuperados_ejem3 )\n",
    "print(\"Simulacion parte 2 finalizada\")\n",
    "\n",
    "tiempos_parte2_ejem3, estados_parte2_ejem3= sim_erdosrenyi_1M_part2_ejem3.summary()\n",
    "tiempos_parte2_ejem3 = tiempos_parte2_ejem3[1:] #ya que en tiempo 0 hay 0 infectados\n",
    "tiempos_parte2_ejem3 = [x + tiempo for x in tiempos_parte2_ejem3] # desplazamos los tiempos desde timepo\n",
    "infectados_parte2_ejem3 = estados_parte2_ejem3['I']\n",
    "infectados_parte2_ejem3 = infectados_parte2_ejem3[1:] #ya que en tiempo 0 hay 0 infectados\n",
    "\n",
    "\n",
    "\n",
    "#Reconpongo la parte1 de tiempos (hasta tiempo) con la parte2(entera), ojo esto tiene que ser asi\n",
    "index = 0\n",
    "while(tiempo > tiempos_parte1_ejem3[index]):\n",
    "    index +=1\n",
    "\n",
    "        \n",
    "tiempos_finales_ejem3= list(tiempos_parte1_ejem3[:index+1]) + list(tiempos_parte2_ejem3)\n",
    "infectados_finales_ejem3 = list(infectados_parte1_ejem3[:index+1]) + list(infectados_parte2_ejem3)\n",
    "\n",
    "print(\"Simulacion completada\")\n"
   ]
  },
  {
   "cell_type": "code",
   "execution_count": 18,
   "metadata": {},
   "outputs": [
    {
     "data": {
      "image/png": "[encoded data removed]",
      "text/plain": [
       "<Figure size 432x288 with 1 Axes>"
      ]
     },
     "metadata": {
      "needs_background": "light"
     },
     "output_type": "display_data"
    }
   ],
   "source": [
    "#Representacion\n",
    "\n",
    "#Pintamos solo la parte 1 de la simulacion\n",
    "lista1= list(tiempos_parte1_ejem3[:index+1])\n",
    "lista2= list(infectados_parte1_ejem3[:index+1])\n",
    "plt.plot(lista1,lista2 , label = 'Parte 1 simulacion hasta t', color = 'orange')\n",
    "\n",
    "#Pintamos solo la parte 2 de la simulacion \n",
    "\n",
    "plt.plot(tiempos_parte2_ejem3,infectados_parte2_ejem3 , label = 'Parte 2 simulacion( desde t)', color = 'red')\n",
    "#plt.plot(1.80,0, '*')\n",
    "plt.xlabel('$t$')\n",
    "plt.ylabel('Number infected')\n",
    "plt.legend()\n",
    "plt.show()"
   ]
  },
  {
   "cell_type": "markdown",
   "metadata": {},
   "source": [
    "# Simulaciones con diferentes probabilidades y t=1.80 fijado"
   ]
  },
  {
   "cell_type": "code",
   "execution_count": 37,
   "metadata": {},
   "outputs": [
    {
     "name": "stdout",
     "output_type": "stream",
     "text": [
      "Generated graph G with 100000 nodes\n",
      "Generated graph G with  edges 500701  enlaces\n",
      "Simulacion  parte 1 finalizada\n",
      "Copia de grafo finalizada\n",
      "----->Probabilidad: 0.1\n",
      "Numero de enlaces del grafo(tras la modificacion): 450916\n",
      "----->Simulacion  0 completada\n",
      "----->Probabilidad: 0.2\n",
      "Numero de enlaces del grafo(tras la modificacion): 400768\n",
      "----->Simulacion  1 completada\n",
      "----->Probabilidad: 0.30000000000000004\n",
      "Numero de enlaces del grafo(tras la modificacion): 350311\n",
      "----->Simulacion  2 completada\n",
      "----->Probabilidad: 0.4\n",
      "Numero de enlaces del grafo(tras la modificacion): 300401\n",
      "----->Simulacion  3 completada\n",
      "----->Probabilidad: 0.5\n",
      "Numero de enlaces del grafo(tras la modificacion): 250535\n",
      "----->Simulacion  4 completada\n",
      "----->Probabilidad: 0.6\n",
      "Numero de enlaces del grafo(tras la modificacion): 200428\n",
      "----->Simulacion  5 completada\n",
      "----->Probabilidad: 0.7\n",
      "Numero de enlaces del grafo(tras la modificacion): 150351\n",
      "----->Simulacion  6 completada\n",
      "----->Probabilidad: 0.7999999999999999\n",
      "Numero de enlaces del grafo(tras la modificacion): 100100\n",
      "----->Simulacion  7 completada\n",
      "----->Probabilidad: 0.8999999999999999\n",
      "Numero de enlaces del grafo(tras la modificacion): 49697\n",
      "----->Simulacion  8 completada\n",
      "----->Probabilidad: 0.9999999999999999\n",
      "Numero de enlaces del grafo(tras la modificacion): 0\n",
      "----->Simulacion  9 completada\n"
     ]
    }
   ],
   "source": [
    "sim_erdosrenyi_1M_part1_ejem3 = np.empty([10],dtype=object)\n",
    "tiempos_parte2_ejem3 = np.empty([10],dtype=object)\n",
    "infectados_parte2_ejem3 = np.empty([10],dtype=object)\n",
    "prob = 0.1 #probabilidad de borrar un enlace\n",
    "\n",
    "tiempos_finales_ejem3 = np.empty([10],dtype=object)\n",
    "infectados_finales_ejem3 = np.empty([10],dtype=object)\n",
    "\n",
    "\n",
    "#Erdos-renyi\n",
    "N = 10**5#number of individuals\n",
    "kave = 10#expected number of partners\n",
    "g_erdosrenyi_1M_ejem3 = nx.fast_gnp_random_graph(N, kave/(N-1))#Erdo's-Re'nyi graph\n",
    "print('Generated graph G with {} nodes'.format(N))\n",
    "print('Generated graph G with  edges', len(list(g_erdosrenyi_1M_ejem3.edges)),\" enlaces\")\n",
    "#-----------------SIMULACION PARTE 1\n",
    "sim_erdosrenyi_1M_part1_ejem3[i]= EoN.fast_SIR(g_erdosrenyi_1M_ejem3, tau, gamma, rho=rho, return_full_data = True)\n",
    "print(\"Simulacion  parte 1 finalizada\")\n",
    "#Esto lo haria para quedarme con la evolucion de la grafica hasta el tiempo t\n",
    "tiempos_parte1_ejem3, estados_parte1_ejem3= sim_erdosrenyi_1M_part1_ejem3[i].summary()\n",
    "infectados_parte1_ejem3 = estados_parte1_ejem3['I']\n",
    "#A partir de tiempo t, cojo los nodos que se encuentran en cada estado\n",
    "tiempo=1.8\n",
    "simulacion = sim_erdosrenyi_1M_part1_ejem3[i]\n",
    "susceptibles_ejem3,infectados_ejem3, recuperados_ejem3 = get_listados_nodos_a_tiempo(simulacion, tiempo)\n",
    "\n",
    "\n",
    "\n",
    "grafo_original = g_erdosrenyi_1M_ejem3\n",
    "\n",
    "grafo_copia = grafo_original.copy()\n",
    "g_erdosrenyi_1M_ejem3 = grafo_copia\n",
    "print(\"Copia de grafo finalizada\")\n",
    "for i in range(0,10):   \n",
    "\n",
    "   \n",
    "\n",
    "\n",
    "    #--------------SIMULACION PARTE 2\n",
    "\n",
    "    #Modifico en grafo\n",
    "\n",
    "    np.random.seed (123) #Semilla para la simluacion\n",
    "\n",
    "\n",
    "\n",
    "\n",
    "    g_erdosrenyi_1M_ejem3 = elimina_enlaces(g_erdosrenyi_1M_ejem3,prob)\n",
    "    print(\"----->Probabilidad:\", prob)\n",
    "    print(\"Numero de enlaces del grafo(tras la modificacion):\", len(list(g_erdosrenyi_1M_ejem3.edges) ))\n",
    "    prob = prob + 0.1\n",
    "\n",
    "    #simulo de nuevo(ofo con paserle bien las proporciones que no lo comprueba)\n",
    "    sim_erdosrenyi_1M_part2_ejem3= EoN.fast_SIR(g_erdosrenyi_1M_ejem3, tau, gamma,  return_full_data = True, initial_infecteds=infectados_ejem3, initial_recovereds=recuperados_ejem3 )\n",
    "    #print(\"Simulacion parte 2 finalizada\")\n",
    "\n",
    "    tiempos_parte2_ejem3[i] , estados_parte2_ejem3= sim_erdosrenyi_1M_part2_ejem3.summary()\n",
    "    tiempos_parte2_ejem3[i]  = tiempos_parte2_ejem3[i] [1:] #ya que en tiempo 0 hay 0 infectados\n",
    "    tiempos_parte2_ejem3[i]  = [x + tiempo for x in tiempos_parte2_ejem3[i] ] # desplazamos los tiempos desde timepo\n",
    "    infectados_parte2_ejem3[i] = estados_parte2_ejem3['I']\n",
    "    infectados_parte2_ejem3[i] = infectados_parte2_ejem3[i][1:] #ya que en tiempo 0 hay 0 infectados\n",
    "\n",
    "\n",
    "\n",
    "    #Reconpongo la parte1 de tiempos (hasta tiempo) con la parte2(entera), ojo esto tiene que ser asi\n",
    "    index = 0\n",
    "    while(tiempo > tiempos_parte1_ejem3[index]):\n",
    "        index +=1\n",
    "\n",
    "\n",
    "    tiempos_finales_ejem3[i]= list(tiempos_parte1_ejem3[:index+1]) + list(tiempos_parte2_ejem3[i])\n",
    "    infectados_finales_ejem3[i] = list(infectados_parte1_ejem3[:index+1]) + list(infectados_parte2_ejem3[i])\n",
    "\n",
    "\n",
    "    grafo_copia = grafo_original.copy()\n",
    "    g_erdosrenyi_1M_ejem3 = grafo_copia\n",
    "\n",
    "    print(\"----->Simulacion \", i, \"completada\")\n"
   ]
  },
  {
   "cell_type": "code",
   "execution_count": 42,
   "metadata": {},
   "outputs": [
    {
     "name": "stdout",
     "output_type": "stream",
     "text": [
      "[500, 499, 500, 501, 500, 501, 500, 501, 502, 503]\n"
     ]
    }
   ],
   "source": [
    "#descarta simulacion[9] ya que la prb es del 0.99999"
   ]
  },
  {
   "cell_type": "code",
   "execution_count": 43,
   "metadata": {},
   "outputs": [
    {
     "name": "stdout",
     "output_type": "stream",
     "text": [
      "[500, 499, 500, 501, 500, 501, 500, 501, 502, 503]\n"
     ]
    }
   ],
   "source": [
    "print(infectados_finales_ejem3[0][0:10])"
   ]
  },
  {
   "cell_type": "code",
   "execution_count": 52,
   "metadata": {},
   "outputs": [
    {
     "data": {
      "image/png": "[encoded data removed]",
      "text/plain": [
       "<Figure size 432x288 with 1 Axes>"
      ]
     },
     "metadata": {
      "needs_background": "light"
     },
     "output_type": "display_data"
    }
   ],
   "source": [
    "#Representacion\n",
    "\n",
    "#Pintamos solo la parte 1 de la simulacion\n",
    "\n",
    "\n",
    "#Pintamos solo la parte 2 de la simulacion \n",
    "\n",
    "plt.plot(tiempos_finales_ejem3[0],infectados_finales_ejem3[0] , label = 'p = 0.1')\n",
    "plt.plot(tiempos_finales_ejem3[2],infectados_finales_ejem3[2] , label = 'p = 0.3')\n",
    "\n",
    "plt.plot(tiempos_finales_ejem3[4],infectados_finales_ejem3[4] , label = 'p = 0.5')\n",
    "plt.plot(tiempos_finales_ejem3[6],infectados_finales_ejem3[6] , label = 'p = 0.7')\n",
    "\n",
    "plt.plot(tiempos_finales_ejem3[8],infectados_finales_ejem3[8] , label = 'p = 0.9')\n",
    "\n",
    "\n",
    "plt.xlabel('$t$')\n",
    "plt.ylabel('Number infected')\n",
    "plt.title('Numero de infectados segun la probabilidad de eliminacion de enlace tras la toma de medidas en t=1.8')\n",
    "plt.legend()\n",
    "plt.show()"
   ]
  },
  {
   "cell_type": "code",
   "execution_count": null,
   "metadata": {},
   "outputs": [],
   "source": []
  }
 ],
 "metadata": {
  "kernelspec": {
   "display_name": "Python 3",
   "language": "python",
   "name": "python3"
  },
  "language_info": {
   "codemirror_mode": {
    "name": "ipython",
    "version": 3
   },
   "file_extension": ".py",
   "mimetype": "text/x-python",
   "name": "python",
   "nbconvert_exporter": "python",
   "pygments_lexer": "ipython3",
   "version": "3.8.3"
  }
 },
 "nbformat": 4,
 "nbformat_minor": 4
}
